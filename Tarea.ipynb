{
 "cells": [
  {
   "attachments": {},
   "cell_type": "markdown",
   "metadata": {},
   "source": [
    "# Tarea Ruuf\n",
    "\n",
    "**Objetivo**: El objetivo de este ejercicio es poder entender tus habilidades como programador/a, la forma en que planteas un problema, cómo los resuelves y finalmente cómo comunicas tu forma de razonar y resultados."
   ]
  },
  {
   "cell_type": "code",
   "execution_count": null,
   "metadata": {},
   "outputs": [],
   "source": [
    "#Indicar Inputs Tarea\n",
    "\n",
    "a = float(input(\"¿Cuál es el largo en metros de tu panel solar?\"))\n",
    "b = float(input(\"¿Cuál es el ancho en metros de tu panel solar?\"))\n",
    "\n",
    "#Inputs rectángulo (techo)\n",
    "\n",
    "x = float(input(\"¿Cuál es el largo en metros de tu techo?\"))\n",
    "y = float(input(\"¿Cuál es el ancho en metros de tu techo?\"))"
   ]
  },
  {
   "cell_type": "code",
   "execution_count": null,
   "metadata": {},
   "outputs": [],
   "source": [
    "#Función que calcula Nº de paneles\n",
    "def cantidad_paneles(largo_panel, ancho_panel, largo_techo, ancho_techo):\n",
    "\n",
    "    \"\"\"\n",
    "    def:La funcion indica la cantidad necesaria de paneles de dimensiones a y b para \n",
    "    un techo de dimensiones x e y\n",
    "    Variables:\n",
    "    a -> float\n",
    "    b -> float\n",
    "    x -> float\n",
    "    y -> float\n",
    "    Ejemplos:\n",
    "    cantidad_paneles(1,2,2,4) ⇒ 4\n",
    "    Paneles 2x2 y techo 1x10 ⇒ 0\n",
    "    \"\"\"\n",
    "\n",
    "    #Se indica la restricción para las dimensiones de los paneles\n",
    "    assert largo_panel > 0, \"La dimensión 'a' del panel debe ser mayor que 0.\"\n",
    "    assert ancho_panel > 0, \"La dimensión 'b' del panel debe ser mayor que 0.\"\n",
    "    assert largo_techo > 0, \"La dimensión 'x' del techo debe ser mayor que 0.\"\n",
    "    assert ancho_techo > 0, \"La dimensión 'y' del techo debe ser mayor que 0.\" \n",
    "\n",
    "    #Se indica restricción para la cantidad de paneles según medidas del techo\n",
    "    if largo_panel>largo_techo or ancho_panel > ancho_techo:\n",
    "\n",
    "        N_paneles = 0\n",
    "\n",
    "    #calculo para Nº de paneles\n",
    "    else:\n",
    "\n",
    "        A_panel = largo_panel * ancho_panel\n",
    "        A_techo = largo_techo * ancho_techo\n",
    "        N_paneles = int(A_techo/A_panel)\n",
    "\n",
    "    return N_paneles\n",
    "\n",
    "#Ejemplos\n",
    "print(cantidad_paneles(1, 2, 2, 4))\n",
    "print(cantidad_paneles(1, 2, 3, 5))\n",
    "print(cantidad_paneles(2, 2, 1, 10))"
   ]
  }
 ],
 "metadata": {
  "language_info": {
   "name": "python"
  },
  "orig_nbformat": 4
 },
 "nbformat": 4,
 "nbformat_minor": 2
}
