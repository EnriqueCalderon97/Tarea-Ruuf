{
 "cells": [
  {
   "attachments": {},
   "cell_type": "markdown",
   "metadata": {},
   "source": [
    "# Tarea Ruuf\n",
    "\n",
    "**Objetivo**: El objetivo de este ejercicio es poder entender tus habilidades como programador/a, la forma en que planteas un problema, cómo los resuelves y finalmente cómo comunicas tu forma de razonar y resultados."
   ]
  },
  {
   "cell_type": "code",
   "execution_count": null,
   "metadata": {},
   "outputs": [],
   "source": [
    "#Indicar Inputs Tarea\n",
    "\n",
    "a = float(input(\"¿Cuál es el largo en metros de tu panel solar?\"))\n",
    "b = float(input(\"¿Cuál es el ancho en metros de tu panel solar?\"))\n",
    "\n",
    "#Inputs rectángulo (techo)\n",
    "\n",
    "x = float(input(\"¿Cuál es el largo en metros de tu techo?\"))\n",
    "y = float(input(\"¿Cuál es el ancho en metros de tu techo?\"))"
   ]
  },
  {
   "cell_type": "code",
   "execution_count": null,
   "metadata": {},
   "outputs": [],
   "source": [
    "#Función que calcula Nº de paneles\n",
    "def cantidad_paneles(largo_panel, ancho_panel, largo_techo, ancho_techo):\n",
    "\n",
    "    #Se indica restricción para la cantidad de paneles según medidas del techo\n",
    "    if largo_panel>largo_techo or ancho_panel > ancho_techo:\n",
    "\n",
    "        N_paneles = 0\n",
    "\n",
    "    #calculo para Nº de paneles\n",
    "    else:\n",
    "\n",
    "        A_panel = largo_panel * ancho_panel\n",
    "        A_techo = largo_techo * ancho_techo\n",
    "        N_paneles = int(A_techo/A_panel)\n",
    "\n",
    "    return N_paneles"
   ]
  }
 ],
 "metadata": {
  "language_info": {
   "name": "python"
  },
  "orig_nbformat": 4
 },
 "nbformat": 4,
 "nbformat_minor": 2
}
