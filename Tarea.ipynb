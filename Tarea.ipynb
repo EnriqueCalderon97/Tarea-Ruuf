{
 "cells": [
  {
   "attachments": {},
   "cell_type": "markdown",
   "metadata": {},
   "source": [
    "# Tarea Ruuf\n",
    "\n",
    "**Objetivo:** El problema a resolver consiste en encontrar la máxima cantidad de rectángulos de dimensiones “a” y “b” (paneles solares) que caben dentro de un rectángulo de dimensiones “x” e “y” (techo)"
   ]
  },
  {
   "cell_type": "code",
   "execution_count": 2,
   "metadata": {},
   "outputs": [],
   "source": [
    "#Indicar Inputs Tarea\n",
    "\n",
    "a = float(input(\"¿Cuál es el largo en metros de tu panel solar?\"))\n",
    "b = float(input(\"¿Cuál es el ancho en metros de tu panel solar?\"))\n",
    "\n",
    "#Inputs rectángulo (techo)\n",
    "\n",
    "x = float(input(\"¿Cuál es el largo en metros de tu techo?\"))\n",
    "y = float(input(\"¿Cuál es el ancho en metros de tu techo?\"))"
   ]
  },
  {
   "attachments": {},
   "cell_type": "markdown",
   "metadata": {},
   "source": [
    "## Tarea principal"
   ]
  },
  {
   "cell_type": "code",
   "execution_count": 5,
   "metadata": {},
   "outputs": [
    {
     "name": "stdout",
     "output_type": "stream",
     "text": [
      "4\n",
      "7\n",
      "0\n",
      "4\n"
     ]
    }
   ],
   "source": [
    "#Función que calcula Nº de paneles\n",
    "def cantidad_paneles(largo_panel, ancho_panel, largo_techo, ancho_techo):\n",
    "\n",
    "    \"\"\"\n",
    "    def:La funcion indica la cantidad necesaria de paneles de dimensiones a y b para \n",
    "    un techo de dimensiones x e y\n",
    "\n",
    "    Variables:\n",
    "    largo_panel -> float\n",
    "    ancho_panel -> float\n",
    "    largo_techo -> float\n",
    "    ancho_techo -> float\n",
    "    \n",
    "    Ejemplos:\n",
    "    cantidad_paneles(1,2,2,4) ⇒ 4\n",
    "    cantidad_paneles(2,2,1,10) ⇒ 0\n",
    "    \"\"\"\n",
    "\n",
    "    #Se indica la restricción para las dimensiones de los paneles\n",
    "    assert largo_panel > 0, \"La dimensión 'a' del panel debe ser mayor que 0.\"\n",
    "    assert ancho_panel > 0, \"La dimensión 'b' del panel debe ser mayor que 0.\"\n",
    "    assert largo_techo > 0, \"La dimensión 'x' del techo debe ser mayor que 0.\"\n",
    "    assert ancho_techo > 0, \"La dimensión 'y' del techo debe ser mayor que 0.\" \n",
    "\n",
    "    #Se indica restricción para la cantidad de paneles según medidas del techo\n",
    "    if largo_panel>largo_techo or ancho_panel > ancho_techo:\n",
    "\n",
    "        N_paneles = 0\n",
    "\n",
    "    #calculo para Nº de paneles\n",
    "    else:\n",
    "\n",
    "        A_panel = largo_panel * ancho_panel\n",
    "        A_techo = largo_techo * ancho_techo\n",
    "        N_paneles = int(A_techo/A_panel)\n",
    "\n",
    "    return N_paneles\n",
    "\n",
    "#Test\n",
    "print(cantidad_paneles(1, 2, 2, 4))\n",
    "print(cantidad_paneles(1, 2, 3, 5))\n",
    "print(cantidad_paneles(2, 2, 1, 10))\n",
    "print(cantidad_paneles(a, b, x, y))"
   ]
  },
  {
   "attachments": {},
   "cell_type": "markdown",
   "metadata": {},
   "source": [
    "## Bonus 1\n",
    "**Objetivo:** Repetir el ejercicio base, considerando un techo triangular, isóceles."
   ]
  },
  {
   "cell_type": "code",
   "execution_count": 6,
   "metadata": {},
   "outputs": [
    {
     "name": "stdout",
     "output_type": "stream",
     "text": [
      "6.0\n"
     ]
    }
   ],
   "source": [
    "def bonus1(alto_panel, ancho_panel, alto_triangulo, ancho_triangulo):\n",
    "\n",
    "    \"\"\"\n",
    "    def:La funcion indica la cantidad necesaria de paneles de dimensiones a y b para \n",
    "    un techo con forma de triangulo isosceles.\n",
    "\n",
    "    Variables:\n",
    "    alto_panel -> float\n",
    "    ancho_panel -> float\n",
    "    alto_triangulo -> float\n",
    "    ancho_triangulo -> float\n",
    "\n",
    "    Ejemplos:\n",
    "    bonus1(3, 5, 12, 18) ⇒ 6\n",
    "    \"\"\"\n",
    "\n",
    "    #Se indica la restricción para las dimensiones de los paneles\n",
    "    assert alto_panel > 0, \"La dimensión 'a' del panel debe ser mayor que 0.\"\n",
    "    assert ancho_panel > 0, \"La dimensión 'b' del panel debe ser mayor que 0.\"\n",
    "    assert alto_triangulo > 0, \"El alto debe ser mayor que 0.\"\n",
    "    assert ancho_triangulo > 0, \"El ancho debe ser mayor que 0.\" \n",
    "\n",
    "    #Se inicializa la variable N_paneles\n",
    "    N_paneles = 0\n",
    "\n",
    "    #Se señalan los niveles\n",
    "    i = 0\n",
    "\n",
    "    niveles = alto_triangulo/alto_panel\n",
    "\n",
    "    #Se iteran niveles i\n",
    "    while i <= niveles:\n",
    "        \n",
    "        base_nivel = ancho_triangulo * ((alto_triangulo-i*alto_panel)/alto_triangulo)\n",
    "        \n",
    "\n",
    "        paneles_i = base_nivel //ancho_panel\n",
    "\n",
    "        N_paneles = N_paneles + paneles_i\n",
    "\n",
    "        i = i + 1\n",
    "    \n",
    "\n",
    "    N_paneles = N_paneles + paneles_i\n",
    "    #print(\"paneles finales\",N_paneles)\n",
    "    \n",
    "    return N_paneles\n",
    "\n",
    "#test\n",
    "print(bonus1(3, 5, 12, 18))\n"
   ]
  }
 ],
 "metadata": {
  "kernelspec": {
   "display_name": "Python 3",
   "language": "python",
   "name": "python3"
  },
  "language_info": {
   "codemirror_mode": {
    "name": "ipython",
    "version": 3
   },
   "file_extension": ".py",
   "mimetype": "text/x-python",
   "name": "python",
   "nbconvert_exporter": "python",
   "pygments_lexer": "ipython3",
   "version": "3.9.6"
  },
  "orig_nbformat": 4,
  "vscode": {
   "interpreter": {
    "hash": "aee8b7b246df8f9039afb4144a1f6fd8d2ca17a180786b69acc140d282b71a49"
   }
  }
 },
 "nbformat": 4,
 "nbformat_minor": 2
}
